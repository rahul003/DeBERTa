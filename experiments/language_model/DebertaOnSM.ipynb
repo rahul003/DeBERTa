{
 "cells": [
  {
   "cell_type": "code",
   "execution_count": 9,
   "id": "10284aa6",
   "metadata": {},
   "outputs": [
    {
     "name": "stdout",
     "output_type": "stream",
     "text": [
      "SageMaker Execution Role: arn:aws:iam::855988369404:role/SageMakerRole\n",
      "AWS account: 855988369404\n",
      "AWS region: us-west-2\n",
      "\n",
      "Default bucket for this session:  sagemaker-us-west-2-855988369404\n"
     ]
    },
    {
     "name": "stderr",
     "output_type": "stream",
     "text": [
      "INFO:sagemaker:Creating training-job with name: deberta-v3-2022-04-13-19-45-03-074\n"
     ]
    }
   ],
   "source": [
    "import os\n",
    "from sagemaker.pytorch import PyTorch\n",
    "import sagemaker\n",
    "from sagemaker import get_execution_role\n",
    "from sagemaker.local import LocalSession\n",
    "import boto3\n",
    "\n",
    "local_mode = False\n",
    "\n",
    "role = (\n",
    "    get_execution_role()\n",
    ")  # provide a pre-existing role ARN as an alternative to creating a new role\n",
    "print(f\"SageMaker Execution Role: {role}\")\n",
    "\n",
    "client = boto3.client(\"sts\")\n",
    "account = client.get_caller_identity()[\"Account\"]\n",
    "print(f\"AWS account: {account}\")\n",
    "if local_mode:\n",
    "    session = LocalSession()\n",
    "    session.config = {'local': {'local_code': True}}\n",
    "    sagemaker_session = session\n",
    "    region = 'us-west-2'\n",
    "else:\n",
    "    session = boto3.session.Session()\n",
    "    region = session.region_name\n",
    "    print(f\"AWS region: {region}\")\n",
    "    sm_boto_client = boto3.client(\"sagemaker\")\n",
    "    sagemaker_session = sagemaker.session.Session(boto_session=session)\n",
    "\n",
    "# get default bucket\n",
    "default_bucket = sagemaker_session.default_bucket()\n",
    "print()\n",
    "print(\"Default bucket for this session: \", default_bucket)\n",
    "\n",
    "s3_output_location = f\"s3://{default_bucket}/output/\"\n",
    "\n",
    "mpioptions = \"-x NCCL_DEBUG=INFO -x SMDEBUG_LOG_LEVEL=ERROR \"\n",
    "mpioptions += \"-x FI_EFA_USE_DEVICE_RDMA=1 -x FI_PROVIDER=efa -x RDMAV_FORK_SAFE=1 \"\n",
    "mpioptions += \"-x MASTER_ADDR=algo-1\"\n",
    "metric_definitions = [\n",
    "    {\"Name\": \"base_metric\", \"Regex\": \"<><><><><><>\"}\n",
    "]\n",
    "\n",
    "instance_type = \"ml.p4d.24xlarge\"\n",
    "instance_count = 2\n",
    "processes_per_host = 8\n",
    "\n",
    "s3_train_bucket = 's3://sagemaker-us-west-2-855988369404/data/deberta-mlm/'\n",
    "train = sagemaker.inputs.TrainingInput(\n",
    "            s3_train_bucket, distribution=\"FullyReplicated\", s3_data_type=\"S3Prefix\"\n",
    ")\n",
    "data_channels = {\"train\": train}\n",
    "\n",
    "volume_size = 500\n",
    "base_job_name = f'deberta-v3'\n",
    "\n",
    "checkpoint_bucket = f\"s3://sagemaker-{region}-{account}/\"\n",
    "checkpoint_s3_uri = (\n",
    "        f\"{checkpoint_bucket}/experiments/{base_job_name}/\"\n",
    "    )\n",
    "\n",
    "estimator = PyTorch(\n",
    "        entry_point='launcher_ddp.py', \n",
    "        source_dir=os.path.dirname(os.path.dirname(os.getcwd())),\n",
    "        role=role,\n",
    "        instance_type=instance_type if not local_mode else 'local_gpu',\n",
    "        volume_size=volume_size,\n",
    "        instance_count=instance_count,\n",
    "        sagemaker_session=sagemaker_session,\n",
    "        distribution={\n",
    "            \"mpi\": {\n",
    "                \"enabled\": True,\n",
    "                \"processes_per_host\": processes_per_host,\n",
    "                \"custom_mpi_options\": mpioptions,\n",
    "            },\n",
    "        },\n",
    "        framework_version=\"1.10\",\n",
    "        py_version=\"py38\",\n",
    "        output_path=s3_output_location,\n",
    "        checkpoint_s3_uri=checkpoint_s3_uri,\n",
    "        checkpoint_local_path='/opt/ml/checkpoints/',\n",
    "        metric_definitions=metric_definitions,\n",
    "        debugger_hook_config=False,\n",
    "        disable_profiler=True,\n",
    "        base_job_name=base_job_name,\n",
    "    )\n",
    "estimator.fit(inputs=data_channels)\n",
    "\n"
   ]
  },
  {
   "cell_type": "code",
   "execution_count": null,
   "id": "98a335a7",
   "metadata": {},
   "outputs": [],
   "source": []
  }
 ],
 "metadata": {
  "kernelspec": {
   "display_name": "conda_python3",
   "language": "python",
   "name": "conda_python3"
  },
  "language_info": {
   "codemirror_mode": {
    "name": "ipython",
    "version": 3
   },
   "file_extension": ".py",
   "mimetype": "text/x-python",
   "name": "python",
   "nbconvert_exporter": "python",
   "pygments_lexer": "ipython3",
   "version": "3.6.13"
  }
 },
 "nbformat": 4,
 "nbformat_minor": 5
}
